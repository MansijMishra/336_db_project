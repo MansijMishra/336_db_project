{
 "cells": [
  {
   "cell_type": "code",
   "execution_count": 1,
   "id": "2aecf1f1",
   "metadata": {},
   "outputs": [
    {
     "name": "stdout",
     "output_type": "stream",
     "text": [
      "Collecting mysql-connector-python\n",
      "  Downloading mysql_connector_python-8.0.33-cp39-cp39-macosx_12_0_arm64.whl (8.4 MB)\n",
      "\u001b[2K     \u001b[90m━━━━━━━━━━━━━━━━━━━━━━━━━━━━━━━━━━━━━━━━\u001b[0m \u001b[32m8.4/8.4 MB\u001b[0m \u001b[31m39.4 MB/s\u001b[0m eta \u001b[36m0:00:00\u001b[0m00:01\u001b[0m00:01\u001b[0m\n",
      "\u001b[?25hRequirement already satisfied: protobuf<=3.20.3,>=3.11.0 in /Users/mm22/miniforge3/envs/tf/lib/python3.9/site-packages (from mysql-connector-python) (3.19.6)\n",
      "Installing collected packages: mysql-connector-python\n",
      "Successfully installed mysql-connector-python-8.0.33\n"
     ]
    }
   ],
   "source": [
    "!pip install mysql-connector-python"
   ]
  },
  {
   "cell_type": "code",
   "execution_count": 2,
   "id": "93edb71d",
   "metadata": {},
   "outputs": [],
   "source": [
    "import mysql.connector\n",
    "\n",
    "import numpy as np\n",
    "import pandas as pd"
   ]
  },
  {
   "cell_type": "code",
   "execution_count": 3,
   "id": "effe56a5",
   "metadata": {},
   "outputs": [
    {
     "data": {
      "text/plain": [
       "array(['root', 'password', '127.0.0.1', 'Students'], dtype='<U9')"
      ]
     },
     "execution_count": 3,
     "metadata": {},
     "output_type": "execute_result"
    }
   ],
   "source": [
    "credentials = np.loadtxt('creds.txt', dtype=str)\n",
    "credentials"
   ]
  },
  {
   "cell_type": "code",
   "execution_count": 4,
   "id": "25a9cc6f",
   "metadata": {},
   "outputs": [
    {
     "data": {
      "text/plain": [
       "{'username': 'root',\n",
       " 'password': 'password',\n",
       " 'host': '127.0.0.1',\n",
       " 'database': 'Students'}"
      ]
     },
     "execution_count": 4,
     "metadata": {},
     "output_type": "execute_result"
    }
   ],
   "source": [
    "labels = ['username', 'password', 'host', 'database']\n",
    "config = dict(zip(labels, list(credentials)))\n",
    "config"
   ]
  },
  {
   "cell_type": "code",
   "execution_count": 7,
   "id": "ce2ac661",
   "metadata": {},
   "outputs": [],
   "source": [
    "conn = mysql.connector.connect(**config)\n",
    "\n",
    "cursor = conn.cursor()\n",
    "\n",
    "students_table = 'students(StudentID INT PRIMARY KEY,Name VARCHAR(100),Age INT,Email VARCHAR(100));'\n",
    "\n",
    "\n",
    "query = (f\"CREATE TABLE {students_table}\")\n",
    "\n",
    "cursor.execute(query)"
   ]
  }
 ],
 "metadata": {
  "kernelspec": {
   "display_name": "Python 3 (ipykernel)",
   "language": "python",
   "name": "python3"
  },
  "language_info": {
   "codemirror_mode": {
    "name": "ipython",
    "version": 3
   },
   "file_extension": ".py",
   "mimetype": "text/x-python",
   "name": "python",
   "nbconvert_exporter": "python",
   "pygments_lexer": "ipython3",
   "version": "3.9.16"
  }
 },
 "nbformat": 4,
 "nbformat_minor": 5
}
